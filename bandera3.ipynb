{
 "cells": [
  {
   "cell_type": "code",
   "execution_count": 2,
   "metadata": {
    "collapsed": false
   },
   "outputs": [],
   "source": [
    "import pandas as pd\n",
    "import numpy as np"
   ]
  },
  {
   "cell_type": "code",
   "execution_count": 4,
   "metadata": {
    "collapsed": false
   },
   "outputs": [],
   "source": [
    "width = pd.read_csv('N:\\\\bandera\\GIS\\Intersect_MAN.csv')"
   ]
  },
  {
   "cell_type": "code",
   "execution_count": 5,
   "metadata": {
    "collapsed": false
   },
   "outputs": [
    {
     "data": {
      "text/html": [
       "<div>\n",
       "<table border=\"1\" class=\"dataframe\">\n",
       "  <thead>\n",
       "    <tr style=\"text-align: right;\">\n",
       "      <th></th>\n",
       "      <th>keyman</th>\n",
       "      <th>heading</th>\n",
       "      <th>length</th>\n",
       "    </tr>\n",
       "  </thead>\n",
       "  <tbody>\n",
       "    <tr>\n",
       "      <th>0</th>\n",
       "      <td>1</td>\n",
       "      <td>432.257263</td>\n",
       "      <td>49.999986</td>\n",
       "    </tr>\n",
       "    <tr>\n",
       "      <th>1</th>\n",
       "      <td>2</td>\n",
       "      <td>355.762207</td>\n",
       "      <td>15.970360</td>\n",
       "    </tr>\n",
       "    <tr>\n",
       "      <th>2</th>\n",
       "      <td>3</td>\n",
       "      <td>289.011902</td>\n",
       "      <td>18.414908</td>\n",
       "    </tr>\n",
       "    <tr>\n",
       "      <th>3</th>\n",
       "      <td>4</td>\n",
       "      <td>273.227387</td>\n",
       "      <td>17.759665</td>\n",
       "    </tr>\n",
       "    <tr>\n",
       "      <th>4</th>\n",
       "      <td>4</td>\n",
       "      <td>273.227387</td>\n",
       "      <td>12.740908</td>\n",
       "    </tr>\n",
       "  </tbody>\n",
       "</table>\n",
       "</div>"
      ],
      "text/plain": [
       "   keyman     heading     length\n",
       "0       1  432.257263  49.999986\n",
       "1       2  355.762207  15.970360\n",
       "2       3  289.011902  18.414908\n",
       "3       4  273.227387  17.759665\n",
       "4       4  273.227387  12.740908"
      ]
     },
     "execution_count": 5,
     "metadata": {},
     "output_type": "execute_result"
    }
   ],
   "source": [
    "width.head(5)"
   ]
  },
  {
   "cell_type": "code",
   "execution_count": 6,
   "metadata": {
    "collapsed": false
   },
   "outputs": [
    {
     "data": {
      "text/html": [
       "<div>\n",
       "<table border=\"1\" class=\"dataframe\">\n",
       "  <thead>\n",
       "    <tr style=\"text-align: right;\">\n",
       "      <th></th>\n",
       "      <th>heading</th>\n",
       "      <th>length</th>\n",
       "    </tr>\n",
       "    <tr>\n",
       "      <th>keyman</th>\n",
       "      <th></th>\n",
       "      <th></th>\n",
       "    </tr>\n",
       "  </thead>\n",
       "  <tbody>\n",
       "    <tr>\n",
       "      <th>1</th>\n",
       "      <td>432.257263</td>\n",
       "      <td>49.999986</td>\n",
       "    </tr>\n",
       "    <tr>\n",
       "      <th>2</th>\n",
       "      <td>355.762207</td>\n",
       "      <td>15.970360</td>\n",
       "    </tr>\n",
       "    <tr>\n",
       "      <th>3</th>\n",
       "      <td>289.011902</td>\n",
       "      <td>18.414908</td>\n",
       "    </tr>\n",
       "    <tr>\n",
       "      <th>4</th>\n",
       "      <td>546.454773</td>\n",
       "      <td>30.500572</td>\n",
       "    </tr>\n",
       "    <tr>\n",
       "      <th>5</th>\n",
       "      <td>705.372375</td>\n",
       "      <td>30.922796</td>\n",
       "    </tr>\n",
       "    <tr>\n",
       "      <th>6</th>\n",
       "      <td>543.621704</td>\n",
       "      <td>30.119842</td>\n",
       "    </tr>\n",
       "    <tr>\n",
       "      <th>7</th>\n",
       "      <td>709.983154</td>\n",
       "      <td>29.987797</td>\n",
       "    </tr>\n",
       "    <tr>\n",
       "      <th>8</th>\n",
       "      <td>543.704651</td>\n",
       "      <td>29.970359</td>\n",
       "    </tr>\n",
       "    <tr>\n",
       "      <th>9</th>\n",
       "      <td>707.604797</td>\n",
       "      <td>30.524197</td>\n",
       "    </tr>\n",
       "    <tr>\n",
       "      <th>10</th>\n",
       "      <td>545.307007</td>\n",
       "      <td>30.205787</td>\n",
       "    </tr>\n",
       "    <tr>\n",
       "      <th>11</th>\n",
       "      <td>290.861359</td>\n",
       "      <td>18.618315</td>\n",
       "    </tr>\n",
       "    <tr>\n",
       "      <th>12</th>\n",
       "      <td>639.830261</td>\n",
       "      <td>11.671712</td>\n",
       "    </tr>\n",
       "    <tr>\n",
       "      <th>13</th>\n",
       "      <td>290.987732</td>\n",
       "      <td>19.908398</td>\n",
       "    </tr>\n",
       "    <tr>\n",
       "      <th>14</th>\n",
       "      <td>447.766144</td>\n",
       "      <td>42.421337</td>\n",
       "    </tr>\n",
       "    <tr>\n",
       "      <th>15</th>\n",
       "      <td>707.970093</td>\n",
       "      <td>35.095815</td>\n",
       "    </tr>\n",
       "    <tr>\n",
       "      <th>16</th>\n",
       "      <td>758.283997</td>\n",
       "      <td>43.471505</td>\n",
       "    </tr>\n",
       "    <tr>\n",
       "      <th>17</th>\n",
       "      <td>579.004700</td>\n",
       "      <td>40.909929</td>\n",
       "    </tr>\n",
       "    <tr>\n",
       "      <th>18</th>\n",
       "      <td>708.568848</td>\n",
       "      <td>31.654263</td>\n",
       "    </tr>\n",
       "    <tr>\n",
       "      <th>19</th>\n",
       "      <td>709.503418</td>\n",
       "      <td>29.725316</td>\n",
       "    </tr>\n",
       "    <tr>\n",
       "      <th>20</th>\n",
       "      <td>376.520966</td>\n",
       "      <td>21.417722</td>\n",
       "    </tr>\n",
       "    <tr>\n",
       "      <th>21</th>\n",
       "      <td>715.051758</td>\n",
       "      <td>31.271249</td>\n",
       "    </tr>\n",
       "    <tr>\n",
       "      <th>22</th>\n",
       "      <td>894.614258</td>\n",
       "      <td>43.705464</td>\n",
       "    </tr>\n",
       "    <tr>\n",
       "      <th>23</th>\n",
       "      <td>290.181641</td>\n",
       "      <td>19.762129</td>\n",
       "    </tr>\n",
       "    <tr>\n",
       "      <th>24</th>\n",
       "      <td>890.455872</td>\n",
       "      <td>29.978223</td>\n",
       "    </tr>\n",
       "    <tr>\n",
       "      <th>25</th>\n",
       "      <td>887.825195</td>\n",
       "      <td>40.852763</td>\n",
       "    </tr>\n",
       "    <tr>\n",
       "      <th>26</th>\n",
       "      <td>708.030457</td>\n",
       "      <td>41.075675</td>\n",
       "    </tr>\n",
       "    <tr>\n",
       "      <th>27</th>\n",
       "      <td>888.421509</td>\n",
       "      <td>25.002015</td>\n",
       "    </tr>\n",
       "    <tr>\n",
       "      <th>28</th>\n",
       "      <td>887.684814</td>\n",
       "      <td>41.604935</td>\n",
       "    </tr>\n",
       "    <tr>\n",
       "      <th>29</th>\n",
       "      <td>706.930481</td>\n",
       "      <td>28.006966</td>\n",
       "    </tr>\n",
       "    <tr>\n",
       "      <th>30</th>\n",
       "      <td>889.027344</td>\n",
       "      <td>29.837683</td>\n",
       "    </tr>\n",
       "    <tr>\n",
       "      <th>...</th>\n",
       "      <td>...</td>\n",
       "      <td>...</td>\n",
       "    </tr>\n",
       "    <tr>\n",
       "      <th>4292</th>\n",
       "      <td>367.207886</td>\n",
       "      <td>14.010817</td>\n",
       "    </tr>\n",
       "    <tr>\n",
       "      <th>4295</th>\n",
       "      <td>705.553955</td>\n",
       "      <td>35.181797</td>\n",
       "    </tr>\n",
       "    <tr>\n",
       "      <th>4296</th>\n",
       "      <td>717.036804</td>\n",
       "      <td>26.739740</td>\n",
       "    </tr>\n",
       "    <tr>\n",
       "      <th>4297</th>\n",
       "      <td>288.711792</td>\n",
       "      <td>0.262377</td>\n",
       "    </tr>\n",
       "    <tr>\n",
       "      <th>4298</th>\n",
       "      <td>356.460205</td>\n",
       "      <td>19.883937</td>\n",
       "    </tr>\n",
       "    <tr>\n",
       "      <th>4299</th>\n",
       "      <td>289.867371</td>\n",
       "      <td>1.613107</td>\n",
       "    </tr>\n",
       "    <tr>\n",
       "      <th>4304</th>\n",
       "      <td>710.465515</td>\n",
       "      <td>18.823122</td>\n",
       "    </tr>\n",
       "    <tr>\n",
       "      <th>4312</th>\n",
       "      <td>276.834259</td>\n",
       "      <td>14.714256</td>\n",
       "    </tr>\n",
       "    <tr>\n",
       "      <th>4314</th>\n",
       "      <td>430.449219</td>\n",
       "      <td>10.273627</td>\n",
       "    </tr>\n",
       "    <tr>\n",
       "      <th>4315</th>\n",
       "      <td>428.451172</td>\n",
       "      <td>13.969402</td>\n",
       "    </tr>\n",
       "    <tr>\n",
       "      <th>4316</th>\n",
       "      <td>431.460083</td>\n",
       "      <td>50.000089</td>\n",
       "    </tr>\n",
       "    <tr>\n",
       "      <th>4317</th>\n",
       "      <td>858.839722</td>\n",
       "      <td>38.559408</td>\n",
       "    </tr>\n",
       "    <tr>\n",
       "      <th>4318</th>\n",
       "      <td>850.602295</td>\n",
       "      <td>43.006386</td>\n",
       "    </tr>\n",
       "    <tr>\n",
       "      <th>4319</th>\n",
       "      <td>848.962708</td>\n",
       "      <td>29.822223</td>\n",
       "    </tr>\n",
       "    <tr>\n",
       "      <th>4320</th>\n",
       "      <td>622.935364</td>\n",
       "      <td>30.287063</td>\n",
       "    </tr>\n",
       "    <tr>\n",
       "      <th>4321</th>\n",
       "      <td>845.083435</td>\n",
       "      <td>30.828883</td>\n",
       "    </tr>\n",
       "    <tr>\n",
       "      <th>4322</th>\n",
       "      <td>425.538879</td>\n",
       "      <td>40.715654</td>\n",
       "    </tr>\n",
       "    <tr>\n",
       "      <th>4323</th>\n",
       "      <td>428.923096</td>\n",
       "      <td>41.930834</td>\n",
       "    </tr>\n",
       "    <tr>\n",
       "      <th>4324</th>\n",
       "      <td>866.067322</td>\n",
       "      <td>22.541604</td>\n",
       "    </tr>\n",
       "    <tr>\n",
       "      <th>4326</th>\n",
       "      <td>858.878784</td>\n",
       "      <td>29.318644</td>\n",
       "    </tr>\n",
       "    <tr>\n",
       "      <th>4327</th>\n",
       "      <td>433.984253</td>\n",
       "      <td>42.114547</td>\n",
       "    </tr>\n",
       "    <tr>\n",
       "      <th>4328</th>\n",
       "      <td>868.553711</td>\n",
       "      <td>42.111110</td>\n",
       "    </tr>\n",
       "    <tr>\n",
       "      <th>4329</th>\n",
       "      <td>851.664795</td>\n",
       "      <td>30.006657</td>\n",
       "    </tr>\n",
       "    <tr>\n",
       "      <th>4330</th>\n",
       "      <td>334.160309</td>\n",
       "      <td>42.255098</td>\n",
       "    </tr>\n",
       "    <tr>\n",
       "      <th>4331</th>\n",
       "      <td>851.653931</td>\n",
       "      <td>29.446273</td>\n",
       "    </tr>\n",
       "    <tr>\n",
       "      <th>4332</th>\n",
       "      <td>855.022461</td>\n",
       "      <td>35.600878</td>\n",
       "    </tr>\n",
       "    <tr>\n",
       "      <th>4333</th>\n",
       "      <td>435.255066</td>\n",
       "      <td>42.096393</td>\n",
       "    </tr>\n",
       "    <tr>\n",
       "      <th>4334</th>\n",
       "      <td>342.619019</td>\n",
       "      <td>36.602158</td>\n",
       "    </tr>\n",
       "    <tr>\n",
       "      <th>4335</th>\n",
       "      <td>350.144165</td>\n",
       "      <td>38.426210</td>\n",
       "    </tr>\n",
       "    <tr>\n",
       "      <th>4336</th>\n",
       "      <td>868.355286</td>\n",
       "      <td>31.084232</td>\n",
       "    </tr>\n",
       "  </tbody>\n",
       "</table>\n",
       "<p>4082 rows × 2 columns</p>\n",
       "</div>"
      ],
      "text/plain": [
       "           heading     length\n",
       "keyman                       \n",
       "1       432.257263  49.999986\n",
       "2       355.762207  15.970360\n",
       "3       289.011902  18.414908\n",
       "4       546.454773  30.500572\n",
       "5       705.372375  30.922796\n",
       "6       543.621704  30.119842\n",
       "7       709.983154  29.987797\n",
       "8       543.704651  29.970359\n",
       "9       707.604797  30.524197\n",
       "10      545.307007  30.205787\n",
       "11      290.861359  18.618315\n",
       "12      639.830261  11.671712\n",
       "13      290.987732  19.908398\n",
       "14      447.766144  42.421337\n",
       "15      707.970093  35.095815\n",
       "16      758.283997  43.471505\n",
       "17      579.004700  40.909929\n",
       "18      708.568848  31.654263\n",
       "19      709.503418  29.725316\n",
       "20      376.520966  21.417722\n",
       "21      715.051758  31.271249\n",
       "22      894.614258  43.705464\n",
       "23      290.181641  19.762129\n",
       "24      890.455872  29.978223\n",
       "25      887.825195  40.852763\n",
       "26      708.030457  41.075675\n",
       "27      888.421509  25.002015\n",
       "28      887.684814  41.604935\n",
       "29      706.930481  28.006966\n",
       "30      889.027344  29.837683\n",
       "...            ...        ...\n",
       "4292    367.207886  14.010817\n",
       "4295    705.553955  35.181797\n",
       "4296    717.036804  26.739740\n",
       "4297    288.711792   0.262377\n",
       "4298    356.460205  19.883937\n",
       "4299    289.867371   1.613107\n",
       "4304    710.465515  18.823122\n",
       "4312    276.834259  14.714256\n",
       "4314    430.449219  10.273627\n",
       "4315    428.451172  13.969402\n",
       "4316    431.460083  50.000089\n",
       "4317    858.839722  38.559408\n",
       "4318    850.602295  43.006386\n",
       "4319    848.962708  29.822223\n",
       "4320    622.935364  30.287063\n",
       "4321    845.083435  30.828883\n",
       "4322    425.538879  40.715654\n",
       "4323    428.923096  41.930834\n",
       "4324    866.067322  22.541604\n",
       "4326    858.878784  29.318644\n",
       "4327    433.984253  42.114547\n",
       "4328    868.553711  42.111110\n",
       "4329    851.664795  30.006657\n",
       "4330    334.160309  42.255098\n",
       "4331    851.653931  29.446273\n",
       "4332    855.022461  35.600878\n",
       "4333    435.255066  42.096393\n",
       "4334    342.619019  36.602158\n",
       "4335    350.144165  38.426210\n",
       "4336    868.355286  31.084232\n",
       "\n",
       "[4082 rows x 2 columns]"
      ]
     },
     "execution_count": 6,
     "metadata": {},
     "output_type": "execute_result"
    }
   ],
   "source": [
    "width.groupby('keyman').sum()"
   ]
  },
  {
   "cell_type": "code",
   "execution_count": 15,
   "metadata": {
    "collapsed": true
   },
   "outputs": [],
   "source": [
    "width['width'] = 50 - width['length']"
   ]
  },
  {
   "cell_type": "code",
   "execution_count": 16,
   "metadata": {
    "collapsed": false
   },
   "outputs": [
    {
     "data": {
      "text/html": [
       "<div>\n",
       "<table border=\"1\" class=\"dataframe\">\n",
       "  <thead>\n",
       "    <tr style=\"text-align: right;\">\n",
       "      <th></th>\n",
       "      <th>keyman</th>\n",
       "      <th>heading</th>\n",
       "      <th>length</th>\n",
       "      <th>width</th>\n",
       "    </tr>\n",
       "  </thead>\n",
       "  <tbody>\n",
       "    <tr>\n",
       "      <th>0</th>\n",
       "      <td>1</td>\n",
       "      <td>432.257263</td>\n",
       "      <td>49.999986</td>\n",
       "      <td>0.000014</td>\n",
       "    </tr>\n",
       "    <tr>\n",
       "      <th>1</th>\n",
       "      <td>2</td>\n",
       "      <td>355.762207</td>\n",
       "      <td>15.970360</td>\n",
       "      <td>34.029640</td>\n",
       "    </tr>\n",
       "    <tr>\n",
       "      <th>2</th>\n",
       "      <td>3</td>\n",
       "      <td>289.011902</td>\n",
       "      <td>18.414908</td>\n",
       "      <td>31.585092</td>\n",
       "    </tr>\n",
       "    <tr>\n",
       "      <th>3</th>\n",
       "      <td>4</td>\n",
       "      <td>273.227387</td>\n",
       "      <td>17.759665</td>\n",
       "      <td>32.240335</td>\n",
       "    </tr>\n",
       "    <tr>\n",
       "      <th>4</th>\n",
       "      <td>4</td>\n",
       "      <td>273.227387</td>\n",
       "      <td>12.740908</td>\n",
       "      <td>37.259092</td>\n",
       "    </tr>\n",
       "  </tbody>\n",
       "</table>\n",
       "</div>"
      ],
      "text/plain": [
       "   keyman     heading     length      width\n",
       "0       1  432.257263  49.999986   0.000014\n",
       "1       2  355.762207  15.970360  34.029640\n",
       "2       3  289.011902  18.414908  31.585092\n",
       "3       4  273.227387  17.759665  32.240335\n",
       "4       4  273.227387  12.740908  37.259092"
      ]
     },
     "execution_count": 16,
     "metadata": {},
     "output_type": "execute_result"
    }
   ],
   "source": [
    "width.head(5)"
   ]
  },
  {
   "cell_type": "code",
   "execution_count": 17,
   "metadata": {
    "collapsed": true
   },
   "outputs": [],
   "source": [
    "width.to_csv('N:\\\\bandera\\GIS\\I_width.csv')"
   ]
  },
  {
   "cell_type": "code",
   "execution_count": 30,
   "metadata": {
    "collapsed": true
   },
   "outputs": [],
   "source": [
    "street = pd.read_csv('N:\\\\bandera\\GIS\\Intersect_SOL.csv')"
   ]
  },
  {
   "cell_type": "code",
   "execution_count": 45,
   "metadata": {
    "collapsed": false
   },
   "outputs": [
    {
     "data": {
      "text/plain": [
       "keysol    7884\n",
       "id        7884\n",
       "x         7884\n",
       "y         7884\n",
       "id2       7884\n",
       "dtype: int64"
      ]
     },
     "execution_count": 45,
     "metadata": {},
     "output_type": "execute_result"
    }
   ],
   "source": [
    "street.count()"
   ]
  },
  {
   "cell_type": "code",
   "execution_count": 31,
   "metadata": {
    "collapsed": false
   },
   "outputs": [
    {
     "data": {
      "text/html": [
       "<div>\n",
       "<table border=\"1\" class=\"dataframe\">\n",
       "  <thead>\n",
       "    <tr style=\"text-align: right;\">\n",
       "      <th></th>\n",
       "      <th>keysol</th>\n",
       "      <th>id</th>\n",
       "      <th>x</th>\n",
       "      <th>y</th>\n",
       "    </tr>\n",
       "  </thead>\n",
       "  <tbody>\n",
       "    <tr>\n",
       "      <th>0</th>\n",
       "      <td>4282</td>\n",
       "      <td>1</td>\n",
       "      <td>346398.6958</td>\n",
       "      <td>6299570.390</td>\n",
       "    </tr>\n",
       "    <tr>\n",
       "      <th>1</th>\n",
       "      <td>4298</td>\n",
       "      <td>2</td>\n",
       "      <td>346424.4173</td>\n",
       "      <td>6299459.074</td>\n",
       "    </tr>\n",
       "    <tr>\n",
       "      <th>2</th>\n",
       "      <td>310</td>\n",
       "      <td>3</td>\n",
       "      <td>346428.9511</td>\n",
       "      <td>6299455.496</td>\n",
       "    </tr>\n",
       "    <tr>\n",
       "      <th>3</th>\n",
       "      <td>4290</td>\n",
       "      <td>4</td>\n",
       "      <td>346432.7133</td>\n",
       "      <td>6299466.693</td>\n",
       "    </tr>\n",
       "    <tr>\n",
       "      <th>4</th>\n",
       "      <td>4298</td>\n",
       "      <td>5</td>\n",
       "      <td>346431.7160</td>\n",
       "      <td>6299459.526</td>\n",
       "    </tr>\n",
       "  </tbody>\n",
       "</table>\n",
       "</div>"
      ],
      "text/plain": [
       "   keysol  id            x            y\n",
       "0    4282   1  346398.6958  6299570.390\n",
       "1    4298   2  346424.4173  6299459.074\n",
       "2     310   3  346428.9511  6299455.496\n",
       "3    4290   4  346432.7133  6299466.693\n",
       "4    4298   5  346431.7160  6299459.526"
      ]
     },
     "execution_count": 31,
     "metadata": {},
     "output_type": "execute_result"
    }
   ],
   "source": [
    "street.head(5)"
   ]
  },
  {
   "cell_type": "code",
   "execution_count": 32,
   "metadata": {
    "collapsed": true
   },
   "outputs": [],
   "source": [
    "street['id2'] = street['id'] - 1"
   ]
  },
  {
   "cell_type": "code",
   "execution_count": 33,
   "metadata": {
    "collapsed": false
   },
   "outputs": [],
   "source": [
    "streetm = pd.merge(street, street, left_on=['keysol','id'], right_on=['keysol','id2'],suffixes=('_L','_R'))"
   ]
  },
  {
   "cell_type": "code",
   "execution_count": 46,
   "metadata": {
    "collapsed": false
   },
   "outputs": [
    {
     "data": {
      "text/plain": [
       "keysol    53\n",
       "id_L      53\n",
       "x_L       53\n",
       "y_L       53\n",
       "id2_L     53\n",
       "id_R      53\n",
       "x_R       53\n",
       "y_R       53\n",
       "id2_R     53\n",
       "dtype: int64"
      ]
     },
     "execution_count": 46,
     "metadata": {},
     "output_type": "execute_result"
    }
   ],
   "source": [
    "streetm.count()"
   ]
  },
  {
   "cell_type": "code",
   "execution_count": 34,
   "metadata": {
    "collapsed": false,
    "scrolled": true
   },
   "outputs": [
    {
     "data": {
      "text/html": [
       "<div>\n",
       "<table border=\"1\" class=\"dataframe\">\n",
       "  <thead>\n",
       "    <tr style=\"text-align: right;\">\n",
       "      <th></th>\n",
       "      <th>keysol</th>\n",
       "      <th>id_L</th>\n",
       "      <th>x_L</th>\n",
       "      <th>y_L</th>\n",
       "      <th>id2_L</th>\n",
       "      <th>id_R</th>\n",
       "      <th>x_R</th>\n",
       "      <th>y_R</th>\n",
       "      <th>id2_R</th>\n",
       "    </tr>\n",
       "  </thead>\n",
       "  <tbody>\n",
       "    <tr>\n",
       "      <th>0</th>\n",
       "      <td>4304</td>\n",
       "      <td>6</td>\n",
       "      <td>346463.9767</td>\n",
       "      <td>6299415.206</td>\n",
       "      <td>5</td>\n",
       "      <td>7</td>\n",
       "      <td>346445.2618</td>\n",
       "      <td>6299413.645</td>\n",
       "      <td>6</td>\n",
       "    </tr>\n",
       "    <tr>\n",
       "      <th>1</th>\n",
       "      <td>1209</td>\n",
       "      <td>13</td>\n",
       "      <td>345947.0774</td>\n",
       "      <td>6298319.388</td>\n",
       "      <td>12</td>\n",
       "      <td>14</td>\n",
       "      <td>345947.8926</td>\n",
       "      <td>6298313.402</td>\n",
       "      <td>13</td>\n",
       "    </tr>\n",
       "    <tr>\n",
       "      <th>2</th>\n",
       "      <td>1995</td>\n",
       "      <td>34</td>\n",
       "      <td>345222.4566</td>\n",
       "      <td>6297411.477</td>\n",
       "      <td>33</td>\n",
       "      <td>35</td>\n",
       "      <td>345225.1428</td>\n",
       "      <td>6297402.091</td>\n",
       "      <td>34</td>\n",
       "    </tr>\n",
       "    <tr>\n",
       "      <th>3</th>\n",
       "      <td>1995</td>\n",
       "      <td>35</td>\n",
       "      <td>345225.1428</td>\n",
       "      <td>6297402.091</td>\n",
       "      <td>34</td>\n",
       "      <td>36</td>\n",
       "      <td>345224.1446</td>\n",
       "      <td>6297405.579</td>\n",
       "      <td>35</td>\n",
       "    </tr>\n",
       "    <tr>\n",
       "      <th>4</th>\n",
       "      <td>2763</td>\n",
       "      <td>41</td>\n",
       "      <td>345934.1163</td>\n",
       "      <td>6296481.826</td>\n",
       "      <td>40</td>\n",
       "      <td>42</td>\n",
       "      <td>345931.6774</td>\n",
       "      <td>6296481.948</td>\n",
       "      <td>41</td>\n",
       "    </tr>\n",
       "    <tr>\n",
       "      <th>5</th>\n",
       "      <td>2779</td>\n",
       "      <td>43</td>\n",
       "      <td>345937.8146</td>\n",
       "      <td>6296418.219</td>\n",
       "      <td>42</td>\n",
       "      <td>44</td>\n",
       "      <td>345953.2547</td>\n",
       "      <td>6296396.788</td>\n",
       "      <td>43</td>\n",
       "    </tr>\n",
       "    <tr>\n",
       "      <th>6</th>\n",
       "      <td>2779</td>\n",
       "      <td>44</td>\n",
       "      <td>345953.2547</td>\n",
       "      <td>6296396.788</td>\n",
       "      <td>43</td>\n",
       "      <td>45</td>\n",
       "      <td>345955.1165</td>\n",
       "      <td>6296394.204</td>\n",
       "      <td>44</td>\n",
       "    </tr>\n",
       "    <tr>\n",
       "      <th>7</th>\n",
       "      <td>3228</td>\n",
       "      <td>48</td>\n",
       "      <td>345398.2618</td>\n",
       "      <td>6295822.095</td>\n",
       "      <td>47</td>\n",
       "      <td>49</td>\n",
       "      <td>345390.1035</td>\n",
       "      <td>6295821.736</td>\n",
       "      <td>48</td>\n",
       "    </tr>\n",
       "    <tr>\n",
       "      <th>8</th>\n",
       "      <td>3228</td>\n",
       "      <td>49</td>\n",
       "      <td>345390.1035</td>\n",
       "      <td>6295821.736</td>\n",
       "      <td>48</td>\n",
       "      <td>50</td>\n",
       "      <td>345389.1513</td>\n",
       "      <td>6295821.694</td>\n",
       "      <td>49</td>\n",
       "    </tr>\n",
       "    <tr>\n",
       "      <th>9</th>\n",
       "      <td>4213</td>\n",
       "      <td>60</td>\n",
       "      <td>343955.9390</td>\n",
       "      <td>6295342.177</td>\n",
       "      <td>59</td>\n",
       "      <td>61</td>\n",
       "      <td>343941.3484</td>\n",
       "      <td>6295349.939</td>\n",
       "      <td>60</td>\n",
       "    </tr>\n",
       "  </tbody>\n",
       "</table>\n",
       "</div>"
      ],
      "text/plain": [
       "   keysol  id_L          x_L          y_L  id2_L  id_R          x_R  \\\n",
       "0    4304     6  346463.9767  6299415.206      5     7  346445.2618   \n",
       "1    1209    13  345947.0774  6298319.388     12    14  345947.8926   \n",
       "2    1995    34  345222.4566  6297411.477     33    35  345225.1428   \n",
       "3    1995    35  345225.1428  6297402.091     34    36  345224.1446   \n",
       "4    2763    41  345934.1163  6296481.826     40    42  345931.6774   \n",
       "5    2779    43  345937.8146  6296418.219     42    44  345953.2547   \n",
       "6    2779    44  345953.2547  6296396.788     43    45  345955.1165   \n",
       "7    3228    48  345398.2618  6295822.095     47    49  345390.1035   \n",
       "8    3228    49  345390.1035  6295821.736     48    50  345389.1513   \n",
       "9    4213    60  343955.9390  6295342.177     59    61  343941.3484   \n",
       "\n",
       "           y_R  id2_R  \n",
       "0  6299413.645      6  \n",
       "1  6298313.402     13  \n",
       "2  6297402.091     34  \n",
       "3  6297405.579     35  \n",
       "4  6296481.948     41  \n",
       "5  6296396.788     43  \n",
       "6  6296394.204     44  \n",
       "7  6295821.736     48  \n",
       "8  6295821.694     49  \n",
       "9  6295349.939     60  "
      ]
     },
     "execution_count": 34,
     "metadata": {},
     "output_type": "execute_result"
    }
   ],
   "source": [
    "streetm.head(10)"
   ]
  },
  {
   "cell_type": "code",
   "execution_count": 43,
   "metadata": {
    "collapsed": false
   },
   "outputs": [],
   "source": [
    "streetdd = streetm.drop_duplicates(subset=['keysol'], keep='first')"
   ]
  },
  {
   "cell_type": "code",
   "execution_count": 39,
   "metadata": {
    "collapsed": false
   },
   "outputs": [
    {
     "data": {
      "text/html": [
       "<div>\n",
       "<table border=\"1\" class=\"dataframe\">\n",
       "  <thead>\n",
       "    <tr style=\"text-align: right;\">\n",
       "      <th></th>\n",
       "      <th>keysol</th>\n",
       "      <th>id_L</th>\n",
       "      <th>x_L</th>\n",
       "      <th>y_L</th>\n",
       "      <th>id2_L</th>\n",
       "      <th>id_R</th>\n",
       "      <th>x_R</th>\n",
       "      <th>y_R</th>\n",
       "      <th>id2_R</th>\n",
       "    </tr>\n",
       "  </thead>\n",
       "  <tbody>\n",
       "    <tr>\n",
       "      <th>0</th>\n",
       "      <td>4304</td>\n",
       "      <td>6</td>\n",
       "      <td>346463.9767</td>\n",
       "      <td>6299415.206</td>\n",
       "      <td>5</td>\n",
       "      <td>7</td>\n",
       "      <td>346445.2618</td>\n",
       "      <td>6299413.645</td>\n",
       "      <td>6</td>\n",
       "    </tr>\n",
       "    <tr>\n",
       "      <th>1</th>\n",
       "      <td>1209</td>\n",
       "      <td>13</td>\n",
       "      <td>345947.0774</td>\n",
       "      <td>6298319.388</td>\n",
       "      <td>12</td>\n",
       "      <td>14</td>\n",
       "      <td>345947.8926</td>\n",
       "      <td>6298313.402</td>\n",
       "      <td>13</td>\n",
       "    </tr>\n",
       "    <tr>\n",
       "      <th>4</th>\n",
       "      <td>2763</td>\n",
       "      <td>41</td>\n",
       "      <td>345934.1163</td>\n",
       "      <td>6296481.826</td>\n",
       "      <td>40</td>\n",
       "      <td>42</td>\n",
       "      <td>345931.6774</td>\n",
       "      <td>6296481.948</td>\n",
       "      <td>41</td>\n",
       "    </tr>\n",
       "    <tr>\n",
       "      <th>9</th>\n",
       "      <td>4213</td>\n",
       "      <td>60</td>\n",
       "      <td>343955.9390</td>\n",
       "      <td>6295342.177</td>\n",
       "      <td>59</td>\n",
       "      <td>61</td>\n",
       "      <td>343941.3484</td>\n",
       "      <td>6295349.939</td>\n",
       "      <td>60</td>\n",
       "    </tr>\n",
       "    <tr>\n",
       "      <th>12</th>\n",
       "      <td>4011</td>\n",
       "      <td>69</td>\n",
       "      <td>346793.3837</td>\n",
       "      <td>6294881.864</td>\n",
       "      <td>68</td>\n",
       "      <td>70</td>\n",
       "      <td>346794.5961</td>\n",
       "      <td>6294867.106</td>\n",
       "      <td>69</td>\n",
       "    </tr>\n",
       "    <tr>\n",
       "      <th>13</th>\n",
       "      <td>4089</td>\n",
       "      <td>71</td>\n",
       "      <td>346831.2854</td>\n",
       "      <td>6294829.722</td>\n",
       "      <td>70</td>\n",
       "      <td>72</td>\n",
       "      <td>346822.3382</td>\n",
       "      <td>6294829.105</td>\n",
       "      <td>71</td>\n",
       "    </tr>\n",
       "    <tr>\n",
       "      <th>16</th>\n",
       "      <td>4146</td>\n",
       "      <td>714</td>\n",
       "      <td>343778.9999</td>\n",
       "      <td>6299404.156</td>\n",
       "      <td>713</td>\n",
       "      <td>715</td>\n",
       "      <td>343765.4097</td>\n",
       "      <td>6299402.890</td>\n",
       "      <td>714</td>\n",
       "    </tr>\n",
       "    <tr>\n",
       "      <th>17</th>\n",
       "      <td>4308</td>\n",
       "      <td>962</td>\n",
       "      <td>347668.6180</td>\n",
       "      <td>6299250.192</td>\n",
       "      <td>961</td>\n",
       "      <td>963</td>\n",
       "      <td>347660.1217</td>\n",
       "      <td>6299252.401</td>\n",
       "      <td>962</td>\n",
       "    </tr>\n",
       "    <tr>\n",
       "      <th>18</th>\n",
       "      <td>554</td>\n",
       "      <td>1014</td>\n",
       "      <td>345258.3811</td>\n",
       "      <td>6299125.721</td>\n",
       "      <td>1013</td>\n",
       "      <td>1015</td>\n",
       "      <td>345250.9023</td>\n",
       "      <td>6299118.073</td>\n",
       "      <td>1014</td>\n",
       "    </tr>\n",
       "    <tr>\n",
       "      <th>19</th>\n",
       "      <td>754</td>\n",
       "      <td>1309</td>\n",
       "      <td>347321.0606</td>\n",
       "      <td>6298883.114</td>\n",
       "      <td>1308</td>\n",
       "      <td>1310</td>\n",
       "      <td>347317.1868</td>\n",
       "      <td>6298882.140</td>\n",
       "      <td>1309</td>\n",
       "    </tr>\n",
       "  </tbody>\n",
       "</table>\n",
       "</div>"
      ],
      "text/plain": [
       "    keysol  id_L          x_L          y_L  id2_L  id_R          x_R  \\\n",
       "0     4304     6  346463.9767  6299415.206      5     7  346445.2618   \n",
       "1     1209    13  345947.0774  6298319.388     12    14  345947.8926   \n",
       "4     2763    41  345934.1163  6296481.826     40    42  345931.6774   \n",
       "9     4213    60  343955.9390  6295342.177     59    61  343941.3484   \n",
       "12    4011    69  346793.3837  6294881.864     68    70  346794.5961   \n",
       "13    4089    71  346831.2854  6294829.722     70    72  346822.3382   \n",
       "16    4146   714  343778.9999  6299404.156    713   715  343765.4097   \n",
       "17    4308   962  347668.6180  6299250.192    961   963  347660.1217   \n",
       "18     554  1014  345258.3811  6299125.721   1013  1015  345250.9023   \n",
       "19     754  1309  347321.0606  6298883.114   1308  1310  347317.1868   \n",
       "\n",
       "            y_R  id2_R  \n",
       "0   6299413.645      6  \n",
       "1   6298313.402     13  \n",
       "4   6296481.948     41  \n",
       "9   6295349.939     60  \n",
       "12  6294867.106     69  \n",
       "13  6294829.105     71  \n",
       "16  6299402.890    714  \n",
       "17  6299252.401    962  \n",
       "18  6299118.073   1014  \n",
       "19  6298882.140   1309  "
      ]
     },
     "execution_count": 39,
     "metadata": {},
     "output_type": "execute_result"
    }
   ],
   "source": [
    "streetdd.head(10)"
   ]
  },
  {
   "cell_type": "code",
   "execution_count": 40,
   "metadata": {
    "collapsed": true
   },
   "outputs": [],
   "source": [
    "streetdd.to_csv('N:\\\\bandera\\GIS\\I_street.csv')"
   ]
  },
  {
   "cell_type": "code",
   "execution_count": 44,
   "metadata": {
    "collapsed": false
   },
   "outputs": [
    {
     "data": {
      "text/plain": [
       "keysol    43\n",
       "id_L      43\n",
       "x_L       43\n",
       "y_L       43\n",
       "id2_L     43\n",
       "id_R      43\n",
       "x_R       43\n",
       "y_R       43\n",
       "id2_R     43\n",
       "dtype: int64"
      ]
     },
     "execution_count": 44,
     "metadata": {},
     "output_type": "execute_result"
    }
   ],
   "source": [
    "streetdd.count()"
   ]
  },
  {
   "cell_type": "code",
   "execution_count": 47,
   "metadata": {
    "collapsed": false
   },
   "outputs": [
    {
     "data": {
      "text/html": [
       "<div>\n",
       "<table border=\"1\" class=\"dataframe\">\n",
       "  <thead>\n",
       "    <tr style=\"text-align: right;\">\n",
       "      <th></th>\n",
       "      <th>keysol</th>\n",
       "      <th>id</th>\n",
       "      <th>x</th>\n",
       "      <th>y</th>\n",
       "      <th>id2</th>\n",
       "    </tr>\n",
       "  </thead>\n",
       "  <tbody>\n",
       "    <tr>\n",
       "      <th>0</th>\n",
       "      <td>4282</td>\n",
       "      <td>1</td>\n",
       "      <td>346398.6958</td>\n",
       "      <td>6299570.390</td>\n",
       "      <td>0</td>\n",
       "    </tr>\n",
       "    <tr>\n",
       "      <th>1</th>\n",
       "      <td>4298</td>\n",
       "      <td>2</td>\n",
       "      <td>346424.4173</td>\n",
       "      <td>6299459.074</td>\n",
       "      <td>1</td>\n",
       "    </tr>\n",
       "    <tr>\n",
       "      <th>2</th>\n",
       "      <td>310</td>\n",
       "      <td>3</td>\n",
       "      <td>346428.9511</td>\n",
       "      <td>6299455.496</td>\n",
       "      <td>2</td>\n",
       "    </tr>\n",
       "    <tr>\n",
       "      <th>3</th>\n",
       "      <td>4290</td>\n",
       "      <td>4</td>\n",
       "      <td>346432.7133</td>\n",
       "      <td>6299466.693</td>\n",
       "      <td>3</td>\n",
       "    </tr>\n",
       "    <tr>\n",
       "      <th>4</th>\n",
       "      <td>4298</td>\n",
       "      <td>5</td>\n",
       "      <td>346431.7160</td>\n",
       "      <td>6299459.526</td>\n",
       "      <td>4</td>\n",
       "    </tr>\n",
       "  </tbody>\n",
       "</table>\n",
       "</div>"
      ],
      "text/plain": [
       "   keysol  id            x            y  id2\n",
       "0    4282   1  346398.6958  6299570.390    0\n",
       "1    4298   2  346424.4173  6299459.074    1\n",
       "2     310   3  346428.9511  6299455.496    2\n",
       "3    4290   4  346432.7133  6299466.693    3\n",
       "4    4298   5  346431.7160  6299459.526    4"
      ]
     },
     "execution_count": 47,
     "metadata": {},
     "output_type": "execute_result"
    }
   ],
   "source": [
    "street.head(5)"
   ]
  },
  {
   "cell_type": "code",
   "execution_count": 52,
   "metadata": {
    "collapsed": false
   },
   "outputs": [
    {
     "data": {
      "text/plain": [
       "keysol\n",
       "2       2\n",
       "3       2\n",
       "4       2\n",
       "5       2\n",
       "6       2\n",
       "7       2\n",
       "8       2\n",
       "9       2\n",
       "10      2\n",
       "11      2\n",
       "12      2\n",
       "13      2\n",
       "14      1\n",
       "15      2\n",
       "16      2\n",
       "17      2\n",
       "18      2\n",
       "19      2\n",
       "20      2\n",
       "21      2\n",
       "22      2\n",
       "23      2\n",
       "24      2\n",
       "25      2\n",
       "26      2\n",
       "27      2\n",
       "28      2\n",
       "29      2\n",
       "30      2\n",
       "31      2\n",
       "       ..\n",
       "4306    2\n",
       "4307    2\n",
       "4308    4\n",
       "4309    2\n",
       "4310    2\n",
       "4311    2\n",
       "4312    3\n",
       "4313    3\n",
       "4314    3\n",
       "4315    2\n",
       "4317    2\n",
       "4318    2\n",
       "4319    2\n",
       "4320    2\n",
       "4321    2\n",
       "4322    2\n",
       "4323    1\n",
       "4324    1\n",
       "4325    1\n",
       "4326    2\n",
       "4327    1\n",
       "4328    2\n",
       "4329    2\n",
       "4330    1\n",
       "4331    1\n",
       "4332    2\n",
       "4333    1\n",
       "4334    2\n",
       "4335    1\n",
       "4336    2\n",
       "dtype: int64"
      ]
     },
     "execution_count": 52,
     "metadata": {},
     "output_type": "execute_result"
    }
   ],
   "source": [
    "street.groupby('keysol').size()"
   ]
  },
  {
   "cell_type": "code",
   "execution_count": 53,
   "metadata": {
    "collapsed": false
   },
   "outputs": [
    {
     "data": {
      "text/plain": [
       "2779    8\n",
       "4213    7\n",
       "4219    7\n",
       "651     6\n",
       "1995    6\n",
       "3228    6\n",
       "4089    6\n",
       "2763    6\n",
       "3602    5\n",
       "3114    5\n",
       "2400    5\n",
       "3575    5\n",
       "2749    5\n",
       "3592    5\n",
       "3463    5\n",
       "3586    5\n",
       "2568    5\n",
       "4298    5\n",
       "4255    5\n",
       "215     5\n",
       "889     5\n",
       "2754    5\n",
       "1930    5\n",
       "1866    5\n",
       "2554    5\n",
       "1778    5\n",
       "4091    5\n",
       "1974    5\n",
       "3585    4\n",
       "3301    4\n",
       "       ..\n",
       "4151    1\n",
       "57      1\n",
       "2124    1\n",
       "51      1\n",
       "4153    1\n",
       "3553    1\n",
       "1680    1\n",
       "359     1\n",
       "299     1\n",
       "1596    1\n",
       "1604    1\n",
       "255     1\n",
       "1640    1\n",
       "4333    1\n",
       "4325    1\n",
       "1672    1\n",
       "2266    1\n",
       "207     1\n",
       "59      1\n",
       "3745    1\n",
       "171     1\n",
       "1780    1\n",
       "123     1\n",
       "4217    1\n",
       "3869    1\n",
       "3873    1\n",
       "4169    1\n",
       "2110    1\n",
       "1880    1\n",
       "4053    1\n",
       "Name: keysol, dtype: int64"
      ]
     },
     "execution_count": 53,
     "metadata": {},
     "output_type": "execute_result"
    }
   ],
   "source": [
    "street.keysol.value_counts()"
   ]
  },
  {
   "cell_type": "code",
   "execution_count": 54,
   "metadata": {
    "collapsed": false
   },
   "outputs": [
    {
     "data": {
      "text/html": [
       "<div>\n",
       "<table border=\"1\" class=\"dataframe\">\n",
       "  <thead>\n",
       "    <tr style=\"text-align: right;\">\n",
       "      <th></th>\n",
       "      <th>keysol</th>\n",
       "      <th>id</th>\n",
       "      <th>x</th>\n",
       "      <th>y</th>\n",
       "      <th>id2</th>\n",
       "    </tr>\n",
       "  </thead>\n",
       "  <tbody>\n",
       "    <tr>\n",
       "      <th>0</th>\n",
       "      <td>4282</td>\n",
       "      <td>1</td>\n",
       "      <td>346398.6958</td>\n",
       "      <td>6299570.390</td>\n",
       "      <td>0</td>\n",
       "    </tr>\n",
       "    <tr>\n",
       "      <th>1</th>\n",
       "      <td>4298</td>\n",
       "      <td>2</td>\n",
       "      <td>346424.4173</td>\n",
       "      <td>6299459.074</td>\n",
       "      <td>1</td>\n",
       "    </tr>\n",
       "    <tr>\n",
       "      <th>2</th>\n",
       "      <td>310</td>\n",
       "      <td>3</td>\n",
       "      <td>346428.9511</td>\n",
       "      <td>6299455.496</td>\n",
       "      <td>2</td>\n",
       "    </tr>\n",
       "    <tr>\n",
       "      <th>3</th>\n",
       "      <td>4290</td>\n",
       "      <td>4</td>\n",
       "      <td>346432.7133</td>\n",
       "      <td>6299466.693</td>\n",
       "      <td>3</td>\n",
       "    </tr>\n",
       "    <tr>\n",
       "      <th>4</th>\n",
       "      <td>4298</td>\n",
       "      <td>5</td>\n",
       "      <td>346431.7160</td>\n",
       "      <td>6299459.526</td>\n",
       "      <td>4</td>\n",
       "    </tr>\n",
       "    <tr>\n",
       "      <th>5</th>\n",
       "      <td>4304</td>\n",
       "      <td>6</td>\n",
       "      <td>346463.9767</td>\n",
       "      <td>6299415.206</td>\n",
       "      <td>5</td>\n",
       "    </tr>\n",
       "    <tr>\n",
       "      <th>6</th>\n",
       "      <td>4304</td>\n",
       "      <td>7</td>\n",
       "      <td>346445.2618</td>\n",
       "      <td>6299413.645</td>\n",
       "      <td>6</td>\n",
       "    </tr>\n",
       "    <tr>\n",
       "      <th>7</th>\n",
       "      <td>395</td>\n",
       "      <td>8</td>\n",
       "      <td>346732.7473</td>\n",
       "      <td>6299346.934</td>\n",
       "      <td>7</td>\n",
       "    </tr>\n",
       "    <tr>\n",
       "      <th>8</th>\n",
       "      <td>4305</td>\n",
       "      <td>9</td>\n",
       "      <td>347313.1528</td>\n",
       "      <td>6299344.467</td>\n",
       "      <td>8</td>\n",
       "    </tr>\n",
       "    <tr>\n",
       "      <th>9</th>\n",
       "      <td>4308</td>\n",
       "      <td>10</td>\n",
       "      <td>347633.2580</td>\n",
       "      <td>6299259.385</td>\n",
       "      <td>9</td>\n",
       "    </tr>\n",
       "  </tbody>\n",
       "</table>\n",
       "</div>"
      ],
      "text/plain": [
       "   keysol  id            x            y  id2\n",
       "0    4282   1  346398.6958  6299570.390    0\n",
       "1    4298   2  346424.4173  6299459.074    1\n",
       "2     310   3  346428.9511  6299455.496    2\n",
       "3    4290   4  346432.7133  6299466.693    3\n",
       "4    4298   5  346431.7160  6299459.526    4\n",
       "5    4304   6  346463.9767  6299415.206    5\n",
       "6    4304   7  346445.2618  6299413.645    6\n",
       "7     395   8  346732.7473  6299346.934    7\n",
       "8    4305   9  347313.1528  6299344.467    8\n",
       "9    4308  10  347633.2580  6299259.385    9"
      ]
     },
     "execution_count": 54,
     "metadata": {},
     "output_type": "execute_result"
    }
   ],
   "source": [
    "street.head(10)"
   ]
  },
  {
   "cell_type": "code",
   "execution_count": 56,
   "metadata": {
    "collapsed": true
   },
   "outputs": [],
   "source": [
    "street = pd.read_csv('N:\\\\bandera\\GIS\\Intersect_SOL.csv')"
   ]
  },
  {
   "cell_type": "code",
   "execution_count": 57,
   "metadata": {
    "collapsed": false
   },
   "outputs": [
    {
     "data": {
      "text/plain": [
       "keysol    7884\n",
       "id        7884\n",
       "x         7884\n",
       "y         7884\n",
       "dtype: int64"
      ]
     },
     "execution_count": 57,
     "metadata": {},
     "output_type": "execute_result"
    }
   ],
   "source": [
    "street.count()"
   ]
  },
  {
   "cell_type": "code",
   "execution_count": 58,
   "metadata": {
    "collapsed": false
   },
   "outputs": [
    {
     "data": {
      "text/html": [
       "<div>\n",
       "<table border=\"1\" class=\"dataframe\">\n",
       "  <thead>\n",
       "    <tr style=\"text-align: right;\">\n",
       "      <th></th>\n",
       "      <th>keysol</th>\n",
       "      <th>id</th>\n",
       "      <th>x</th>\n",
       "      <th>y</th>\n",
       "    </tr>\n",
       "  </thead>\n",
       "  <tbody>\n",
       "    <tr>\n",
       "      <th>0</th>\n",
       "      <td>4282</td>\n",
       "      <td>1</td>\n",
       "      <td>346398.6958</td>\n",
       "      <td>6299570.390</td>\n",
       "    </tr>\n",
       "    <tr>\n",
       "      <th>1</th>\n",
       "      <td>4298</td>\n",
       "      <td>2</td>\n",
       "      <td>346424.4173</td>\n",
       "      <td>6299459.074</td>\n",
       "    </tr>\n",
       "    <tr>\n",
       "      <th>2</th>\n",
       "      <td>310</td>\n",
       "      <td>3</td>\n",
       "      <td>346428.9511</td>\n",
       "      <td>6299455.496</td>\n",
       "    </tr>\n",
       "    <tr>\n",
       "      <th>3</th>\n",
       "      <td>4290</td>\n",
       "      <td>4</td>\n",
       "      <td>346432.7133</td>\n",
       "      <td>6299466.693</td>\n",
       "    </tr>\n",
       "    <tr>\n",
       "      <th>4</th>\n",
       "      <td>4298</td>\n",
       "      <td>5</td>\n",
       "      <td>346431.7160</td>\n",
       "      <td>6299459.526</td>\n",
       "    </tr>\n",
       "  </tbody>\n",
       "</table>\n",
       "</div>"
      ],
      "text/plain": [
       "   keysol  id            x            y\n",
       "0    4282   1  346398.6958  6299570.390\n",
       "1    4298   2  346424.4173  6299459.074\n",
       "2     310   3  346428.9511  6299455.496\n",
       "3    4290   4  346432.7133  6299466.693\n",
       "4    4298   5  346431.7160  6299459.526"
      ]
     },
     "execution_count": 58,
     "metadata": {},
     "output_type": "execute_result"
    }
   ],
   "source": [
    "street.head()"
   ]
  },
  {
   "cell_type": "code",
   "execution_count": 59,
   "metadata": {
    "collapsed": true
   },
   "outputs": [],
   "source": [
    "streetf = street.drop_duplicates(subset=['keysol'], keep='first')"
   ]
  },
  {
   "cell_type": "code",
   "execution_count": 60,
   "metadata": {
    "collapsed": false
   },
   "outputs": [
    {
     "data": {
      "text/plain": [
       "keysol    3803\n",
       "id        3803\n",
       "x         3803\n",
       "y         3803\n",
       "dtype: int64"
      ]
     },
     "execution_count": 60,
     "metadata": {},
     "output_type": "execute_result"
    }
   ],
   "source": [
    "streetf.count()"
   ]
  },
  {
   "cell_type": "code",
   "execution_count": 61,
   "metadata": {
    "collapsed": true
   },
   "outputs": [],
   "source": [
    "streetl = street.drop_duplicates(subset=['keysol'], keep='last')"
   ]
  },
  {
   "cell_type": "code",
   "execution_count": 62,
   "metadata": {
    "collapsed": false
   },
   "outputs": [
    {
     "data": {
      "text/plain": [
       "keysol    3803\n",
       "id        3803\n",
       "x         3803\n",
       "y         3803\n",
       "dtype: int64"
      ]
     },
     "execution_count": 62,
     "metadata": {},
     "output_type": "execute_result"
    }
   ],
   "source": [
    "streetl.count()"
   ]
  },
  {
   "cell_type": "code",
   "execution_count": 63,
   "metadata": {
    "collapsed": false
   },
   "outputs": [
    {
     "data": {
      "text/html": [
       "<div>\n",
       "<table border=\"1\" class=\"dataframe\">\n",
       "  <thead>\n",
       "    <tr style=\"text-align: right;\">\n",
       "      <th></th>\n",
       "      <th>keysol</th>\n",
       "      <th>id</th>\n",
       "      <th>x</th>\n",
       "      <th>y</th>\n",
       "    </tr>\n",
       "  </thead>\n",
       "  <tbody>\n",
       "    <tr>\n",
       "      <th>0</th>\n",
       "      <td>4282</td>\n",
       "      <td>1</td>\n",
       "      <td>346398.6958</td>\n",
       "      <td>6299570.390</td>\n",
       "    </tr>\n",
       "    <tr>\n",
       "      <th>1</th>\n",
       "      <td>4298</td>\n",
       "      <td>2</td>\n",
       "      <td>346424.4173</td>\n",
       "      <td>6299459.074</td>\n",
       "    </tr>\n",
       "    <tr>\n",
       "      <th>2</th>\n",
       "      <td>310</td>\n",
       "      <td>3</td>\n",
       "      <td>346428.9511</td>\n",
       "      <td>6299455.496</td>\n",
       "    </tr>\n",
       "    <tr>\n",
       "      <th>3</th>\n",
       "      <td>4290</td>\n",
       "      <td>4</td>\n",
       "      <td>346432.7133</td>\n",
       "      <td>6299466.693</td>\n",
       "    </tr>\n",
       "    <tr>\n",
       "      <th>5</th>\n",
       "      <td>4304</td>\n",
       "      <td>6</td>\n",
       "      <td>346463.9767</td>\n",
       "      <td>6299415.206</td>\n",
       "    </tr>\n",
       "  </tbody>\n",
       "</table>\n",
       "</div>"
      ],
      "text/plain": [
       "   keysol  id            x            y\n",
       "0    4282   1  346398.6958  6299570.390\n",
       "1    4298   2  346424.4173  6299459.074\n",
       "2     310   3  346428.9511  6299455.496\n",
       "3    4290   4  346432.7133  6299466.693\n",
       "5    4304   6  346463.9767  6299415.206"
      ]
     },
     "execution_count": 63,
     "metadata": {},
     "output_type": "execute_result"
    }
   ],
   "source": [
    "streetf.head()"
   ]
  },
  {
   "cell_type": "code",
   "execution_count": 64,
   "metadata": {
    "collapsed": false
   },
   "outputs": [
    {
     "data": {
      "text/html": [
       "<div>\n",
       "<table border=\"1\" class=\"dataframe\">\n",
       "  <thead>\n",
       "    <tr style=\"text-align: right;\">\n",
       "      <th></th>\n",
       "      <th>keysol</th>\n",
       "      <th>id</th>\n",
       "      <th>x</th>\n",
       "      <th>y</th>\n",
       "    </tr>\n",
       "  </thead>\n",
       "  <tbody>\n",
       "    <tr>\n",
       "      <th>2</th>\n",
       "      <td>310</td>\n",
       "      <td>3</td>\n",
       "      <td>346428.9511</td>\n",
       "      <td>6299455.496</td>\n",
       "    </tr>\n",
       "    <tr>\n",
       "      <th>7</th>\n",
       "      <td>395</td>\n",
       "      <td>8</td>\n",
       "      <td>346732.7473</td>\n",
       "      <td>6299346.934</td>\n",
       "    </tr>\n",
       "    <tr>\n",
       "      <th>13</th>\n",
       "      <td>1209</td>\n",
       "      <td>14</td>\n",
       "      <td>345947.8926</td>\n",
       "      <td>6298313.402</td>\n",
       "    </tr>\n",
       "    <tr>\n",
       "      <th>64</th>\n",
       "      <td>3839</td>\n",
       "      <td>65</td>\n",
       "      <td>344957.4524</td>\n",
       "      <td>6295072.886</td>\n",
       "    </tr>\n",
       "    <tr>\n",
       "      <th>66</th>\n",
       "      <td>3869</td>\n",
       "      <td>67</td>\n",
       "      <td>344957.2454</td>\n",
       "      <td>6295072.879</td>\n",
       "    </tr>\n",
       "  </tbody>\n",
       "</table>\n",
       "</div>"
      ],
      "text/plain": [
       "    keysol  id            x            y\n",
       "2      310   3  346428.9511  6299455.496\n",
       "7      395   8  346732.7473  6299346.934\n",
       "13    1209  14  345947.8926  6298313.402\n",
       "64    3839  65  344957.4524  6295072.886\n",
       "66    3869  67  344957.2454  6295072.879"
      ]
     },
     "execution_count": 64,
     "metadata": {},
     "output_type": "execute_result"
    }
   ],
   "source": [
    "streetl.head()"
   ]
  },
  {
   "cell_type": "code",
   "execution_count": 65,
   "metadata": {
    "collapsed": false
   },
   "outputs": [
    {
     "name": "stdout",
     "output_type": "stream",
     "text": [
      "    keysol  id            x            y\n",
      "79       2  80  343986.2673  6300072.831\n"
     ]
    }
   ],
   "source": [
    "sc = streetf.loc[streetf.keysol == 2]\n",
    "print sc"
   ]
  },
  {
   "cell_type": "code",
   "execution_count": 66,
   "metadata": {
    "collapsed": false
   },
   "outputs": [
    {
     "name": "stdout",
     "output_type": "stream",
     "text": [
      "    keysol  id            x            y\n",
      "87       2  88  343994.1861  6300073.417\n"
     ]
    }
   ],
   "source": [
    "sc = streetl.loc[streetl.keysol == 2]\n",
    "print sc"
   ]
  },
  {
   "cell_type": "code",
   "execution_count": 67,
   "metadata": {
    "collapsed": true
   },
   "outputs": [],
   "source": [
    "streetr = pd.merge(streetf, streetl, on='keysol')"
   ]
  },
  {
   "cell_type": "code",
   "execution_count": 68,
   "metadata": {
    "collapsed": false
   },
   "outputs": [
    {
     "data": {
      "text/plain": [
       "keysol    3803\n",
       "id_x      3803\n",
       "x_x       3803\n",
       "y_x       3803\n",
       "id_y      3803\n",
       "x_y       3803\n",
       "y_y       3803\n",
       "dtype: int64"
      ]
     },
     "execution_count": 68,
     "metadata": {},
     "output_type": "execute_result"
    }
   ],
   "source": [
    "streetr.count()"
   ]
  },
  {
   "cell_type": "code",
   "execution_count": 69,
   "metadata": {
    "collapsed": true
   },
   "outputs": [],
   "source": [
    "streetr.to_csv('N:\\\\bandera\\GIS\\I_streett.csv')"
   ]
  },
  {
   "cell_type": "code",
   "execution_count": null,
   "metadata": {
    "collapsed": true
   },
   "outputs": [],
   "source": []
  }
 ],
 "metadata": {
  "kernelspec": {
   "display_name": "Python 2",
   "language": "python",
   "name": "python2"
  },
  "language_info": {
   "codemirror_mode": {
    "name": "ipython",
    "version": 2
   },
   "file_extension": ".py",
   "mimetype": "text/x-python",
   "name": "python",
   "nbconvert_exporter": "python",
   "pygments_lexer": "ipython2",
   "version": "2.7.13"
  }
 },
 "nbformat": 4,
 "nbformat_minor": 2
}
