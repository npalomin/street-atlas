{
 "cells": [
  {
   "cell_type": "code",
   "execution_count": 36,
   "metadata": {
    "collapsed": false
   },
   "outputs": [
    {
     "name": "stdout",
     "output_type": "stream",
     "text": [
      "Processing c:\\users\\npalo\\dropbox\\bandera\\vincenty-0.1.4.tar.gz\n",
      "  Requirement already satisfied (use --upgrade to upgrade): vincenty==0.1.4 from file:///C:/Users/npalo/Dropbox/bandera/vincenty-0.1.4.tar.gz in c:\\users\\npalo\\anaconda2\\lib\\site-packages\n",
      "Building wheels for collected packages: vincenty\n",
      "  Running setup.py bdist_wheel for vincenty: started\n",
      "  Running setup.py bdist_wheel for vincenty: finished with status 'done'\n",
      "  Stored in directory: C:\\Users\\npalo\\AppData\\Local\\pip\\Cache\\wheels\\c7\\31\\21\\0290a74af5894b898310a2cc7c83ad7871004c27eaf445dc9e\n",
      "Successfully built vincenty\n"
     ]
    }
   ],
   "source": [
    "import pip\n",
    "\n",
    "def install(package):\n",
    "   pip.main(['install', package])\n",
    "\n",
    "install('C:/Users/npalo/Dropbox/bandera/geopy-1.11.0.tar.gz') "
   ]
  },
  {
   "cell_type": "code",
   "execution_count": 37,
   "metadata": {
    "collapsed": true
   },
   "outputs": [],
   "source": [
    "from vincenty import vincenty"
   ]
  },
  {
   "cell_type": "code",
   "execution_count": 38,
   "metadata": {
    "collapsed": true
   },
   "outputs": [],
   "source": [
    "import numpy as np\n",
    "import pandas as pd"
   ]
  },
  {
   "cell_type": "code",
   "execution_count": 65,
   "metadata": {
    "collapsed": true
   },
   "outputs": [],
   "source": [
    "df = pd.read_csv('N:\\\\bandera\\GIS\\Export_intersect_point.csv')"
   ]
  },
  {
   "cell_type": "code",
   "execution_count": 66,
   "metadata": {
    "collapsed": false
   },
   "outputs": [],
   "source": [
    "df = df.rename(columns={'FID_Export_CS_transects':'ID'})"
   ]
  },
  {
   "cell_type": "code",
   "execution_count": 75,
   "metadata": {
    "collapsed": false
   },
   "outputs": [
    {
     "data": {
      "text/html": [
       "<div>\n",
       "<table border=\"1\" class=\"dataframe\">\n",
       "  <thead>\n",
       "    <tr style=\"text-align: right;\">\n",
       "      <th></th>\n",
       "      <th>ID</th>\n",
       "      <th>POINT_X</th>\n",
       "      <th>POINT_Y</th>\n",
       "    </tr>\n",
       "  </thead>\n",
       "  <tbody>\n",
       "    <tr>\n",
       "      <th>0</th>\n",
       "      <td>1</td>\n",
       "      <td>-70.651477</td>\n",
       "      <td>-33.440775</td>\n",
       "    </tr>\n",
       "    <tr>\n",
       "      <th>1</th>\n",
       "      <td>1</td>\n",
       "      <td>-70.651458</td>\n",
       "      <td>-33.440914</td>\n",
       "    </tr>\n",
       "    <tr>\n",
       "      <th>2</th>\n",
       "      <td>2</td>\n",
       "      <td>-70.652114</td>\n",
       "      <td>-33.440340</td>\n",
       "    </tr>\n",
       "    <tr>\n",
       "      <th>3</th>\n",
       "      <td>2</td>\n",
       "      <td>-70.652272</td>\n",
       "      <td>-33.440356</td>\n",
       "    </tr>\n",
       "    <tr>\n",
       "      <th>4</th>\n",
       "      <td>3</td>\n",
       "      <td>-70.652834</td>\n",
       "      <td>-33.440906</td>\n",
       "    </tr>\n",
       "    <tr>\n",
       "      <th>5</th>\n",
       "      <td>3</td>\n",
       "      <td>-70.652815</td>\n",
       "      <td>-33.441043</td>\n",
       "    </tr>\n",
       "    <tr>\n",
       "      <th>6</th>\n",
       "      <td>4</td>\n",
       "      <td>-70.650647</td>\n",
       "      <td>-33.440992</td>\n",
       "    </tr>\n",
       "    <tr>\n",
       "      <th>7</th>\n",
       "      <td>4</td>\n",
       "      <td>-70.650860</td>\n",
       "      <td>-33.441014</td>\n",
       "    </tr>\n",
       "    <tr>\n",
       "      <th>8</th>\n",
       "      <td>5</td>\n",
       "      <td>-70.651406</td>\n",
       "      <td>-33.441233</td>\n",
       "    </tr>\n",
       "    <tr>\n",
       "      <th>9</th>\n",
       "      <td>5</td>\n",
       "      <td>-70.651396</td>\n",
       "      <td>-33.441303</td>\n",
       "    </tr>\n",
       "    <tr>\n",
       "      <th>10</th>\n",
       "      <td>6</td>\n",
       "      <td>-70.651995</td>\n",
       "      <td>-33.441122</td>\n",
       "    </tr>\n",
       "    <tr>\n",
       "      <th>11</th>\n",
       "      <td>6</td>\n",
       "      <td>-70.652157</td>\n",
       "      <td>-33.441140</td>\n",
       "    </tr>\n",
       "    <tr>\n",
       "      <th>12</th>\n",
       "      <td>7</td>\n",
       "      <td>-70.650570</td>\n",
       "      <td>-33.441571</td>\n",
       "    </tr>\n",
       "    <tr>\n",
       "      <th>13</th>\n",
       "      <td>7</td>\n",
       "      <td>-70.650781</td>\n",
       "      <td>-33.441593</td>\n",
       "    </tr>\n",
       "    <tr>\n",
       "      <th>14</th>\n",
       "      <td>8</td>\n",
       "      <td>-70.651296</td>\n",
       "      <td>-33.441918</td>\n",
       "    </tr>\n",
       "    <tr>\n",
       "      <th>15</th>\n",
       "      <td>8</td>\n",
       "      <td>-70.651282</td>\n",
       "      <td>-33.442053</td>\n",
       "    </tr>\n",
       "    <tr>\n",
       "      <th>16</th>\n",
       "      <td>9</td>\n",
       "      <td>-70.651906</td>\n",
       "      <td>-33.441687</td>\n",
       "    </tr>\n",
       "    <tr>\n",
       "      <th>17</th>\n",
       "      <td>9</td>\n",
       "      <td>-70.652068</td>\n",
       "      <td>-33.441705</td>\n",
       "    </tr>\n",
       "    <tr>\n",
       "      <th>18</th>\n",
       "      <td>10</td>\n",
       "      <td>-70.652658</td>\n",
       "      <td>-33.442039</td>\n",
       "    </tr>\n",
       "    <tr>\n",
       "      <th>19</th>\n",
       "      <td>11</td>\n",
       "      <td>-70.653332</td>\n",
       "      <td>-33.441610</td>\n",
       "    </tr>\n",
       "    <tr>\n",
       "      <th>20</th>\n",
       "      <td>11</td>\n",
       "      <td>-70.653441</td>\n",
       "      <td>-33.441622</td>\n",
       "    </tr>\n",
       "    <tr>\n",
       "      <th>21</th>\n",
       "      <td>12</td>\n",
       "      <td>-70.650936</td>\n",
       "      <td>-33.442346</td>\n",
       "    </tr>\n",
       "    <tr>\n",
       "      <th>22</th>\n",
       "      <td>13</td>\n",
       "      <td>-70.651513</td>\n",
       "      <td>-33.442380</td>\n",
       "    </tr>\n",
       "  </tbody>\n",
       "</table>\n",
       "</div>"
      ],
      "text/plain": [
       "    ID    POINT_X    POINT_Y\n",
       "0    1 -70.651477 -33.440775\n",
       "1    1 -70.651458 -33.440914\n",
       "2    2 -70.652114 -33.440340\n",
       "3    2 -70.652272 -33.440356\n",
       "4    3 -70.652834 -33.440906\n",
       "5    3 -70.652815 -33.441043\n",
       "6    4 -70.650647 -33.440992\n",
       "7    4 -70.650860 -33.441014\n",
       "8    5 -70.651406 -33.441233\n",
       "9    5 -70.651396 -33.441303\n",
       "10   6 -70.651995 -33.441122\n",
       "11   6 -70.652157 -33.441140\n",
       "12   7 -70.650570 -33.441571\n",
       "13   7 -70.650781 -33.441593\n",
       "14   8 -70.651296 -33.441918\n",
       "15   8 -70.651282 -33.442053\n",
       "16   9 -70.651906 -33.441687\n",
       "17   9 -70.652068 -33.441705\n",
       "18  10 -70.652658 -33.442039\n",
       "19  11 -70.653332 -33.441610\n",
       "20  11 -70.653441 -33.441622\n",
       "21  12 -70.650936 -33.442346\n",
       "22  13 -70.651513 -33.442380"
      ]
     },
     "execution_count": 75,
     "metadata": {},
     "output_type": "execute_result"
    }
   ],
   "source": [
    "df"
   ]
  },
  {
   "cell_type": "code",
   "execution_count": 82,
   "metadata": {
    "collapsed": false
   },
   "outputs": [],
   "source": [
    "class point():\n",
    "    def __init__(self, rowNum):\n",
    "        self.id = df['ID'].ix[rowNum]             # the most important attribute!\n",
    "        self.x = df['POINT_X'].ix[rowNum]\n",
    "        self.y = df['POINT_Y'].ix[rowNum]\n",
    "        \n",
    "    def getId(self):\n",
    "        return self.id\n",
    "    \n",
    "    def getX(self):\n",
    "        return self.x\n",
    "    \n",
    "    def getY(self):\n",
    "        return self.y\n",
    "     \n",
    "# we should always have a string representation of the object    \n",
    "    def show(self):                                     \n",
    "        string = \"Point = \" + str(self.getId()) + \"\\n\" + \"x = \" + str(self.getX()) + \"\\n\" + \"y = \" + str(self.getY()) + \"\\n\"\n",
    "        print(string)"
   ]
  },
  {
   "cell_type": "code",
   "execution_count": 83,
   "metadata": {
    "collapsed": false
   },
   "outputs": [],
   "source": [
    "places = []                       # already used the name 'cities'...\n",
    "\n",
    "for i in range(df['ID'].count()):       # the method inside will return row \n",
    "     temp = point(i)                           # length for the 'city' column.\n",
    "     places.append(temp)"
   ]
  },
  {
   "cell_type": "code",
   "execution_count": 92,
   "metadata": {
    "collapsed": false
   },
   "outputs": [
    {
     "name": "stdout",
     "output_type": "stream",
     "text": [
      "Point = 1\n",
      "x = -70.65147728\n",
      "y = -33.44077526\n",
      "\n",
      "Point = 1\n",
      "x = -70.65145846\n",
      "y = -33.4409141\n",
      "\n",
      "Point = 2\n",
      "x = -70.65211382\n",
      "y = -33.44034024\n",
      "\n",
      "Point = 2\n",
      "x = -70.65227175\n",
      "y = -33.44035636\n",
      "\n",
      "Point = 3\n",
      "x = -70.65283434\n",
      "y = -33.4409062\n",
      "\n",
      "Point = 3\n",
      "x = -70.65281542\n",
      "y = -33.44104272\n",
      "\n",
      "Point = 4\n",
      "x = -70.65064716\n",
      "y = -33.44099213\n",
      "\n",
      "Point = 4\n",
      "x = -70.65086025\n",
      "y = -33.44101423\n",
      "\n",
      "Point = 5\n",
      "x = -70.65140608\n",
      "y = -33.44123304\n",
      "\n",
      "Point = 5\n",
      "x = -70.65139624\n",
      "y = -33.44130343\n",
      "\n"
     ]
    }
   ],
   "source": [
    "for j in range(10):           # the data in it's new array of objects format!\n",
    "    places[j].show()"
   ]
  },
  {
   "cell_type": "code",
   "execution_count": 94,
   "metadata": {
    "collapsed": false
   },
   "outputs": [],
   "source": [
    "# a distance function to make my life easier\n",
    "def distance(a, b):                  # 'a', and 'b' will just be City objects!\n",
    "    return vincenty(a.getX(), a.getY(), b.getXg(), b.getY(), miles=True)\n",
    "    print vincenty"
   ]
  },
  {
   "cell_type": "code",
   "execution_count": 99,
   "metadata": {
    "collapsed": false
   },
   "outputs": [
    {
     "ename": "TypeError",
     "evalue": "'int' object has no attribute '__getitem__'",
     "output_type": "error",
     "traceback": [
      "\u001b[0;31m---------------------------------------------------------------------------\u001b[0m",
      "\u001b[0;31mTypeError\u001b[0m                                 Traceback (most recent call last)",
      "\u001b[0;32m<ipython-input-99-246497a3251c>\u001b[0m in \u001b[0;36m<module>\u001b[0;34m()\u001b[0m\n\u001b[0;32m----> 1\u001b[0;31m \u001b[0mvincenty\u001b[0m\u001b[1;33m(\u001b[0m\u001b[1;36m1\u001b[0m\u001b[1;33m,\u001b[0m\u001b[1;36m1\u001b[0m\u001b[1;33m,\u001b[0m \u001b[0mmiles\u001b[0m\u001b[1;33m=\u001b[0m\u001b[0mTrue\u001b[0m\u001b[1;33m)\u001b[0m\u001b[1;33m\u001b[0m\u001b[0m\n\u001b[0m",
      "\u001b[0;32mC:\\Users\\npalo\\Anaconda2\\lib\\site-packages\\vincenty\\__init__.pyc\u001b[0m in \u001b[0;36mvincenty_inverse\u001b[0;34m(point1, point2, miles)\u001b[0m\n\u001b[1;32m     36\u001b[0m \u001b[1;33m\u001b[0m\u001b[0m\n\u001b[1;32m     37\u001b[0m     \u001b[1;31m# short-circuit coincident points\u001b[0m\u001b[1;33m\u001b[0m\u001b[1;33m\u001b[0m\u001b[0m\n\u001b[0;32m---> 38\u001b[0;31m     \u001b[1;32mif\u001b[0m \u001b[0mpoint1\u001b[0m\u001b[1;33m[\u001b[0m\u001b[1;36m0\u001b[0m\u001b[1;33m]\u001b[0m \u001b[1;33m==\u001b[0m \u001b[0mpoint2\u001b[0m\u001b[1;33m[\u001b[0m\u001b[1;36m0\u001b[0m\u001b[1;33m]\u001b[0m \u001b[1;32mand\u001b[0m \u001b[0mpoint1\u001b[0m\u001b[1;33m[\u001b[0m\u001b[1;36m1\u001b[0m\u001b[1;33m]\u001b[0m \u001b[1;33m==\u001b[0m \u001b[0mpoint2\u001b[0m\u001b[1;33m[\u001b[0m\u001b[1;36m1\u001b[0m\u001b[1;33m]\u001b[0m\u001b[1;33m:\u001b[0m\u001b[1;33m\u001b[0m\u001b[0m\n\u001b[0m\u001b[1;32m     39\u001b[0m         \u001b[1;32mreturn\u001b[0m \u001b[1;36m0.0\u001b[0m\u001b[1;33m\u001b[0m\u001b[0m\n\u001b[1;32m     40\u001b[0m \u001b[1;33m\u001b[0m\u001b[0m\n",
      "\u001b[0;31mTypeError\u001b[0m: 'int' object has no attribute '__getitem__'"
     ]
    }
   ],
   "source": [
    "vincenty(1,1, miles=True)"
   ]
  },
  {
   "cell_type": "code",
   "execution_count": 101,
   "metadata": {
    "collapsed": false
   },
   "outputs": [],
   "source": [
    "point1 = (-70.65147728, -33.44077526)\n",
    "point2 = (-70.65145846, -33.4409141)"
   ]
  },
  {
   "cell_type": "code",
   "execution_count": 104,
   "metadata": {
    "collapsed": false
   },
   "outputs": [
    {
     "name": "stdout",
     "output_type": "stream",
     "text": [
      "0.005549\n"
     ]
    }
   ],
   "source": [
    "print(vincenty(point1, point2))"
   ]
  },
  {
   "cell_type": "code",
   "execution_count": 107,
   "metadata": {
    "collapsed": false
   },
   "outputs": [
    {
     "ename": "AttributeError",
     "evalue": "'float' object has no attribute 'miles'",
     "output_type": "error",
     "traceback": [
      "\u001b[0;31m---------------------------------------------------------------------------\u001b[0m",
      "\u001b[0;31mAttributeError\u001b[0m                            Traceback (most recent call last)",
      "\u001b[0;32m<ipython-input-107-f7d8d1a6aa5a>\u001b[0m in \u001b[0;36m<module>\u001b[0;34m()\u001b[0m\n\u001b[1;32m      1\u001b[0m \u001b[0mnewport_ri\u001b[0m \u001b[1;33m=\u001b[0m \u001b[1;33m(\u001b[0m\u001b[1;36m41.49008\u001b[0m\u001b[1;33m,\u001b[0m \u001b[1;33m-\u001b[0m\u001b[1;36m71.312796\u001b[0m\u001b[1;33m)\u001b[0m\u001b[1;33m\u001b[0m\u001b[0m\n\u001b[1;32m      2\u001b[0m \u001b[0mcleveland_oh\u001b[0m \u001b[1;33m=\u001b[0m \u001b[1;33m(\u001b[0m\u001b[1;36m41.499498\u001b[0m\u001b[1;33m,\u001b[0m \u001b[1;33m-\u001b[0m\u001b[1;36m81.695391\u001b[0m\u001b[1;33m)\u001b[0m\u001b[1;33m\u001b[0m\u001b[0m\n\u001b[0;32m----> 3\u001b[0;31m \u001b[1;32mprint\u001b[0m\u001b[1;33m(\u001b[0m\u001b[0mvincenty\u001b[0m\u001b[1;33m(\u001b[0m\u001b[0mnewport_ri\u001b[0m\u001b[1;33m,\u001b[0m \u001b[0mcleveland_oh\u001b[0m\u001b[1;33m)\u001b[0m\u001b[1;33m.\u001b[0m\u001b[0mmiles\u001b[0m\u001b[1;33m)\u001b[0m\u001b[1;33m\u001b[0m\u001b[0m\n\u001b[0m",
      "\u001b[0;31mAttributeError\u001b[0m: 'float' object has no attribute 'miles'"
     ]
    }
   ],
   "source": [
    "newport_ri = (41.49008, -71.312796)\n",
    "cleveland_oh = (41.499498, -81.695391)\n",
    "print(vincenty(newport_ri, cleveland_oh).miles)"
   ]
  },
  {
   "cell_type": "code",
   "execution_count": 108,
   "metadata": {
    "collapsed": false
   },
   "outputs": [
    {
     "ename": "AttributeError",
     "evalue": "'float' object has no attribute 'kilometers'",
     "output_type": "error",
     "traceback": [
      "\u001b[0;31m---------------------------------------------------------------------------\u001b[0m",
      "\u001b[0;31mAttributeError\u001b[0m                            Traceback (most recent call last)",
      "\u001b[0;32m<ipython-input-108-138d7b96d327>\u001b[0m in \u001b[0;36m<module>\u001b[0;34m()\u001b[0m\n\u001b[0;32m----> 1\u001b[0;31m \u001b[0mdistance\u001b[0m \u001b[1;33m=\u001b[0m \u001b[0mvincenty\u001b[0m\u001b[1;33m(\u001b[0m\u001b[0mpoint1\u001b[0m\u001b[1;33m,\u001b[0m \u001b[0mpoint2\u001b[0m\u001b[1;33m)\u001b[0m\u001b[1;33m.\u001b[0m\u001b[0mkilometers\u001b[0m\u001b[1;33m\u001b[0m\u001b[0m\n\u001b[0m",
      "\u001b[0;31mAttributeError\u001b[0m: 'float' object has no attribute 'kilometers'"
     ]
    }
   ],
   "source": [
    "distance = vincenty(point1, point2).kilometers"
   ]
  },
  {
   "cell_type": "code",
   "execution_count": 109,
   "metadata": {
    "collapsed": false
   },
   "outputs": [
    {
     "name": "stdout",
     "output_type": "stream",
     "text": [
      "Processing c:\\users\\npalo\\dropbox\\bandera\\geopy-1.11.0.tar.gz\n",
      "Building wheels for collected packages: geopy\n",
      "  Running setup.py bdist_wheel for geopy: started\n",
      "  Running setup.py bdist_wheel for geopy: finished with status 'done'\n",
      "  Stored in directory: C:\\Users\\npalo\\AppData\\Local\\pip\\Cache\\wheels\\01\\65\\ba\\67197828a578436594b5a01ed90c0ae3823d82f2022e21e58f\n",
      "Successfully built geopy\n",
      "Installing collected packages: geopy\n",
      "Successfully installed geopy-1.11.0\n"
     ]
    }
   ],
   "source": [
    "import pip\n",
    "\n",
    "def install(package):\n",
    "   pip.main(['install', package])\n",
    "\n",
    "install('C:/Users/npalo/Dropbox/bandera/geopy-1.11.0.tar.gz') "
   ]
  },
  {
   "cell_type": "code",
   "execution_count": 110,
   "metadata": {
    "collapsed": false
   },
   "outputs": [
    {
     "name": "stdout",
     "output_type": "stream",
     "text": [
      "538.390445157\n"
     ]
    }
   ],
   "source": [
    "from geopy.distance import vincenty\n",
    "newport_ri = (41.49008, -71.312796)\n",
    "cleveland_oh = (41.499498, -81.695391)\n",
    "print(vincenty(newport_ri, cleveland_oh).miles)"
   ]
  },
  {
   "cell_type": "code",
   "execution_count": 111,
   "metadata": {
    "collapsed": false
   },
   "outputs": [
    {
     "name": "stdout",
     "output_type": "stream",
     "text": [
      "5.54862321456\n"
     ]
    }
   ],
   "source": [
    "print(vincenty(point1, point2).meters)"
   ]
  },
  {
   "cell_type": "code",
   "execution_count": null,
   "metadata": {
    "collapsed": true
   },
   "outputs": [],
   "source": []
  }
 ],
 "metadata": {
  "kernelspec": {
   "display_name": "Python 2",
   "language": "python",
   "name": "python2"
  },
  "language_info": {
   "codemirror_mode": {
    "name": "ipython",
    "version": 2
   },
   "file_extension": ".py",
   "mimetype": "text/x-python",
   "name": "python",
   "nbconvert_exporter": "python",
   "pygments_lexer": "ipython2",
   "version": "2.7.13"
  }
 },
 "nbformat": 4,
 "nbformat_minor": 2
}
